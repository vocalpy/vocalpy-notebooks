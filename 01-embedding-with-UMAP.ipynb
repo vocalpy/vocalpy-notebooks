{
 "cells": [
  {
   "cell_type": "code",
   "execution_count": 16,
   "id": "615c072b-0d0e-49e6-aab7-7cf09f0d0a76",
   "metadata": {
    "tags": []
   },
   "outputs": [
    {
     "name": "stdout",
     "output_type": "stream",
     "text": [
      "  % Total    % Received % Xferd  Average Speed   Time    Time     Time  Current\n",
      "                                 Dload  Upload   Total   Spent    Left  Speed\n",
      "  0     0    0     0    0     0      0      0 --:--:-- --:--:-- --:--:--     0\n",
      "100  155M  100  155M    0     0  12.0M      0  0:00:12  0:00:12 --:--:-- 14.2M\n"
     ]
    }
   ],
   "source": [
    "!curl -L https://figshare.com/ndownloader/files/37681653 -o data/bfsongrepo/sober.repo1.gy6or6.032312.cbin.not.mat.tar.gz"
   ]
  },
  {
   "cell_type": "code",
   "execution_count": 22,
   "id": "0a95b713-6f9d-48da-a2c9-75735b766b5b",
   "metadata": {
    "tags": []
   },
   "outputs": [],
   "source": [
    "!tar -xzf data/bfsongrepo/sober.repo1.gy6or6.032312.cbin.not.mat.tar.gz -C data/bfsongrepo"
   ]
  },
  {
   "cell_type": "markdown",
   "id": "1c362e27-98e7-4025-9ca3-2f14745346aa",
   "metadata": {},
   "source": [
    "Import VocalPy"
   ]
  },
  {
   "cell_type": "code",
   "execution_count": 23,
   "id": "f26db875-a8e0-4c86-9bf8-e9772f40762a",
   "metadata": {
    "tags": []
   },
   "outputs": [],
   "source": [
    "import vocalpy as voc"
   ]
  },
  {
   "cell_type": "markdown",
   "id": "856a4269-9198-451c-9222-58801f2b8316",
   "metadata": {},
   "source": [
    "Load data"
   ]
  },
  {
   "cell_type": "code",
   "execution_count": 24,
   "id": "9e5d28f5-1e22-4aec-ad7c-776177739534",
   "metadata": {
    "tags": []
   },
   "outputs": [],
   "source": [
    "data_dir = ('data/bfsongrepo/gy6or6/032312/')\n",
    "\n",
    "cbin_paths = voc.paths.from_dir(data_dir, 'cbin')"
   ]
  },
  {
   "cell_type": "code",
   "execution_count": 25,
   "id": "630f7d94-33bc-4b43-bdab-e839dc19a13f",
   "metadata": {
    "tags": []
   },
   "outputs": [],
   "source": [
    "audios = [voc.Audio.read(cbin_path) for cbin_path in cbin_paths]"
   ]
  },
  {
   "cell_type": "code",
   "execution_count": 59,
   "id": "01f769e3-169d-4909-b14d-1c809f9e7551",
   "metadata": {
    "tags": []
   },
   "outputs": [],
   "source": [
    "audio = audios[0]"
   ]
  },
  {
   "cell_type": "code",
   "execution_count": 65,
   "id": "82361735-b2ab-40d1-9146-07407684dbad",
   "metadata": {
    "tags": []
   },
   "outputs": [],
   "source": [
    "data = np.array(audio.data)"
   ]
  },
  {
   "cell_type": "code",
   "execution_count": 61,
   "id": "c2492160-74ff-45bb-afc8-2d17533f7369",
   "metadata": {
    "tags": []
   },
   "outputs": [],
   "source": [
    "squared = np.power(data, 2)"
   ]
  },
  {
   "cell_type": "code",
   "execution_count": 64,
   "id": "518c05cb-69b4-4da0-bdac-718726e91825",
   "metadata": {
    "tags": []
   },
   "outputs": [
    {
     "data": {
      "text/plain": [
       "32761"
      ]
     },
     "execution_count": 64,
     "metadata": {},
     "output_type": "execute_result"
    }
   ],
   "source": [
    "squared.max()"
   ]
  },
  {
   "cell_type": "code",
   "execution_count": 67,
   "id": "3791c31b-3577-462c-9635-c26aec697d14",
   "metadata": {
    "tags": []
   },
   "outputs": [],
   "source": [
    "new_dtype_str = str(data.dtype)[:-1] + str(int(str(data.dtype)[-1]) ** 2)\n",
    "data2 = data.astype(np.dtype(new_dtype_str))"
   ]
  },
  {
   "cell_type": "code",
   "execution_count": 69,
   "id": "4ee45262-8ff9-441a-ae97-56d4c74bb66d",
   "metadata": {
    "tags": []
   },
   "outputs": [],
   "source": [
    "squared2 = np.power(data2, 2)"
   ]
  },
  {
   "cell_type": "code",
   "execution_count": 73,
   "id": "3306450a-b005-4d42-acb4-49a7ba719bd3",
   "metadata": {
    "tags": []
   },
   "outputs": [
    {
     "data": {
      "text/plain": [
       "array([52900, 49729, 55225, 51984, 56169, 56169, 55225, 49729, 44521,\n",
       "       37636], dtype=int32)"
      ]
     },
     "execution_count": 73,
     "metadata": {},
     "output_type": "execute_result"
    }
   ],
   "source": [
    "squared2[:10]"
   ]
  },
  {
   "cell_type": "code",
   "execution_count": 84,
   "id": "5589ca61-31e5-4e8a-9698-04990319bde4",
   "metadata": {
    "tags": []
   },
   "outputs": [],
   "source": [
    "import evfuncs"
   ]
  },
  {
   "cell_type": "code",
   "execution_count": 85,
   "id": "cac61482-f8eb-47ef-b458-07f578257691",
   "metadata": {
    "tags": []
   },
   "outputs": [
    {
     "data": {
      "text/plain": [
       "vocalpy.Audio(data=array([-230, ..., dtype=int16), samplerate=32000, channels=1), path=data/bfsongrepo/gy6or6/032312/gy6or6_baseline_230312_0808.138.cbin)"
      ]
     },
     "execution_count": 85,
     "metadata": {},
     "output_type": "execute_result"
    }
   ],
   "source": [
    "audio"
   ]
  },
  {
   "cell_type": "code",
   "execution_count": 86,
   "id": "a5391967-cdbe-4929-a84c-75cbfe50a55c",
   "metadata": {
    "tags": []
   },
   "outputs": [],
   "source": [
    "smooth = evfuncs.smooth_data(audio.data,audio.samplerate)"
   ]
  },
  {
   "cell_type": "code",
   "execution_count": 89,
   "id": "504f4048-fb25-4f48-919c-75c83ec41af9",
   "metadata": {
    "tags": []
   },
   "outputs": [
    {
     "data": {
      "text/plain": [
       "23005969.88284535"
      ]
     },
     "execution_count": 89,
     "metadata": {},
     "output_type": "execute_result"
    }
   ],
   "source": []
  },
  {
   "cell_type": "code",
   "execution_count": 27,
   "id": "e1304090-3804-4197-a8be-18749294dad7",
   "metadata": {
    "tags": []
   },
   "outputs": [],
   "source": [
    "callback = voc.segment.energy\n",
    "segment_params = {\n",
    "    'threshold': 1500,\n",
    "    'min_dur': 0.01,\n",
    "    'min_silent_dur': 0.006,\n",
    "}\n",
    "segmenter = voc.Segmenter(\n",
    "    callback=callback,\n",
    "    segment_params=segment_params\n",
    ")"
   ]
  },
  {
   "cell_type": "code",
   "execution_count": 55,
   "id": "328f5494-22b8-4896-9a84-c4f5ea6ec256",
   "metadata": {
    "tags": []
   },
   "outputs": [
    {
     "name": "stderr",
     "output_type": "stream",
     "text": [
      "/tmp/ipykernel_650655/945264840.py:1: UserWarning: Values in `data` would overflow when squaring because of dtype, >i2;casting to a larger integer dtype to avoid\n",
      "  energy_smoothed = voc.signal.audio.smoothed_energy(audios[0], 2)\n"
     ]
    }
   ],
   "source": [
    "energy_smoothed = voc.signal.audio.smoothed_energy(audios[0], 2)"
   ]
  },
  {
   "cell_type": "code",
   "execution_count": 91,
   "id": "5fa55f5a-4136-41b3-aaaa-7bb9cfb5b81a",
   "metadata": {
    "tags": []
   },
   "outputs": [],
   "source": [
    "data = np.array(audios[0].data)"
   ]
  },
  {
   "cell_type": "code",
   "execution_count": 90,
   "id": "d07a3e23-a3ad-4f4e-95be-326037a36fc5",
   "metadata": {
    "tags": []
   },
   "outputs": [
    {
     "data": {
      "text/plain": [
       "array([16106.4375  , 16203.953125, 16306.46875 , 16339.53125 ,\n",
       "       16395.78125 , 16468.03125 , 16507.09375 , 16533.359375,\n",
       "       16553.609375, 16582.5     ])"
      ]
     },
     "execution_count": 90,
     "metadata": {},
     "output_type": "execute_result"
    }
   ],
   "source": [
    "energy_smoothed[:10]"
   ]
  },
  {
   "cell_type": "code",
   "execution_count": 56,
   "id": "cb0fb5d7-842d-496a-8a90-2b7f7f4feef2",
   "metadata": {
    "tags": []
   },
   "outputs": [],
   "source": [
    "import matplotlib.pyplot as plt"
   ]
  },
  {
   "cell_type": "code",
   "execution_count": 83,
   "id": "7806cb81-a370-4708-a363-4fb66f4288a2",
   "metadata": {
    "tags": []
   },
   "outputs": [
    {
     "data": {
      "text/plain": [
       "(0.0, 10000.0)"
      ]
     },
     "execution_count": 83,
     "metadata": {},
     "output_type": "execute_result"
    },
    {
     "data": {
      "image/png": "[encoded data removed]",
      "text/plain": [
       "<Figure size 640x480 with 1 Axes>"
      ]
     },
     "metadata": {},
     "output_type": "display_data"
    }
   ],
   "source": [
    "fig, ax = plt.subplots()\n",
    "ax.plot(energy_smoothed[50000:100000])\n",
    "ax.axhline(1500, color='k', linestyle='--')\n",
    "ax.set_ylim(0, )"
   ]
  },
  {
   "cell_type": "code",
   "execution_count": 28,
   "id": "dc8f9220-57fb-4ad4-b88f-f04b2c67447b",
   "metadata": {
    "tags": []
   },
   "outputs": [
    {
     "name": "stderr",
     "output_type": "stream",
     "text": [
      "/home/pimienta/miniconda3/envs/vocalpy-notebooks-env/lib/python3.10/site-packages/vocalpy/segment/energy.py:60: UserWarning: Values in `data` would overflow when squaring because of dtype, >i2;casting to a larger integer dtype to avoid\n",
      "  energy_smoothed = signal.audio.smoothed_energy(audio, smooth_win)\n"
     ]
    },
    {
     "name": "stdout",
     "output_type": "stream",
     "text": [
      "[########################################] | 100% Completed | 103.31 ms\n"
     ]
    }
   ],
   "source": [
    "seqs = segmenter.segment(audios)"
   ]
  },
  {
   "cell_type": "code",
   "execution_count": 30,
   "id": "4f6051b6-afc8-4273-9e86-5091ce268a80",
   "metadata": {
    "tags": []
   },
   "outputs": [
    {
     "data": {
      "text/plain": [
       "Sequence(units=[Unit(onset=0.0, offset=12.30528125, label='-', audio=None, spectrogram=None)], method='energy', segment_params={'threshold': 1500, 'min_dur': 0.01, 'min_silent_dur': 0.006}, audio=vocalpy.Audio(data=None, samplerate=None, channels=None), path=data/bfsongrepo/gy6or6/032312/gy6or6_baseline_230312_0808.138.cbin), spectrogram=None)"
      ]
     },
     "execution_count": 30,
     "metadata": {},
     "output_type": "execute_result"
    }
   ],
   "source": [
    "seqs[0]"
   ]
  },
  {
   "cell_type": "code",
   "execution_count": 31,
   "id": "897f40ba-37cc-4166-9344-61b70d7b1da8",
   "metadata": {
    "tags": []
   },
   "outputs": [
    {
     "name": "stdout",
     "output_type": "stream",
     "text": [
      "[########################################] | 100% Completed | 102.86 ms\n"
     ]
    }
   ],
   "source": [
    "spect_params = {'fft_size': 512, 'step_size': 64}\n",
    "callback = voc.signal.spectrogram.spectrogram\n",
    "spect_maker = voc.SpectrogramMaker(callback=callback, spect_params=spect_params)\n",
    "spects = spect_maker.make(audios, parallelize=True)"
   ]
  },
  {
   "cell_type": "code",
   "execution_count": 33,
   "id": "f85fa2d7-5811-4a07-b79c-b88dd0b1bfae",
   "metadata": {
    "tags": []
   },
   "outputs": [
    {
     "name": "stderr",
     "output_type": "stream",
     "text": [
      "/home/pimienta/miniconda3/envs/vocalpy-notebooks-env/lib/python3.10/site-packages/umap/distances.py:1063: NumbaDeprecationWarning: The 'nopython' keyword argument was not supplied to the 'numba.jit' decorator. The implicit default value for this argument is currently False, but it will be changed to True in Numba 0.59.0. See https://numba.readthedocs.io/en/stable/reference/deprecation.html#deprecation-of-object-mode-fall-back-behaviour-when-using-jit for details.\n",
      "  @numba.jit()\n",
      "/home/pimienta/miniconda3/envs/vocalpy-notebooks-env/lib/python3.10/site-packages/umap/distances.py:1071: NumbaDeprecationWarning: The 'nopython' keyword argument was not supplied to the 'numba.jit' decorator. The implicit default value for this argument is currently False, but it will be changed to True in Numba 0.59.0. See https://numba.readthedocs.io/en/stable/reference/deprecation.html#deprecation-of-object-mode-fall-back-behaviour-when-using-jit for details.\n",
      "  @numba.jit()\n",
      "/home/pimienta/miniconda3/envs/vocalpy-notebooks-env/lib/python3.10/site-packages/umap/distances.py:1086: NumbaDeprecationWarning: The 'nopython' keyword argument was not supplied to the 'numba.jit' decorator. The implicit default value for this argument is currently False, but it will be changed to True in Numba 0.59.0. See https://numba.readthedocs.io/en/stable/reference/deprecation.html#deprecation-of-object-mode-fall-back-behaviour-when-using-jit for details.\n",
      "  @numba.jit()\n",
      "/home/pimienta/miniconda3/envs/vocalpy-notebooks-env/lib/python3.10/site-packages/tqdm/auto.py:21: TqdmWarning: IProgress not found. Please update jupyter and ipywidgets. See https://ipywidgets.readthedocs.io/en/stable/user_install.html\n",
      "  from .autonotebook import tqdm as notebook_tqdm\n",
      "/home/pimienta/miniconda3/envs/vocalpy-notebooks-env/lib/python3.10/site-packages/umap/umap_.py:660: NumbaDeprecationWarning: The 'nopython' keyword argument was not supplied to the 'numba.jit' decorator. The implicit default value for this argument is currently False, but it will be changed to True in Numba 0.59.0. See https://numba.readthedocs.io/en/stable/reference/deprecation.html#deprecation-of-object-mode-fall-back-behaviour-when-using-jit for details.\n",
      "  @numba.jit()\n"
     ]
    }
   ],
   "source": [
    "import umap"
   ]
  },
  {
   "cell_type": "code",
   "execution_count": 35,
   "id": "bc67cf13-d474-4cbf-bd7b-878e44599028",
   "metadata": {
    "tags": []
   },
   "outputs": [
    {
     "data": {
      "text/plain": [
       "vocalpy.Spectrogram(data=array([[3.063...dtype=float32), frequencies=array([    0....7.5, 16000. ]), times=array([8.0000...  1.2296e+01]), path=None, audio_path=PosixPath('data/bfsongrepo/gy6or6/032312/gy6or6_baseline_230312_0808.138.cbin'))"
      ]
     },
     "execution_count": 35,
     "metadata": {},
     "output_type": "execute_result"
    }
   ],
   "source": [
    "spects[0]"
   ]
  },
  {
   "cell_type": "code",
   "execution_count": 52,
   "id": "ee974de5-d119-4352-94ea-7284841236c3",
   "metadata": {
    "tags": []
   },
   "outputs": [
    {
     "data": {
      "text/plain": [
       "Sequence(units=[Unit(onset=0.0, offset=12.9018125, label='-', audio=None, spectrogram=None)], method='energy', segment_params={'threshold': 1500, 'min_dur': 0.01, 'min_silent_dur': 0.006}, audio=vocalpy.Audio(data=None, samplerate=None, channels=None), path=data/bfsongrepo/gy6or6/032312/gy6or6_baseline_230312_0810.148.cbin), spectrogram=None)"
      ]
     },
     "execution_count": 52,
     "metadata": {},
     "output_type": "execute_result"
    }
   ],
   "source": [
    "seqs[2]"
   ]
  },
  {
   "cell_type": "code",
   "execution_count": 37,
   "id": "69e5ddfb-468f-46a3-8b9a-5c5917589fef",
   "metadata": {
    "tags": []
   },
   "outputs": [],
   "source": [
    "seq = seqs[0]"
   ]
  },
  {
   "cell_type": "code",
   "execution_count": 50,
   "id": "21c66864-fd4f-46b2-bec8-a524e16dc576",
   "metadata": {
    "tags": []
   },
   "outputs": [
    {
     "data": {
      "text/plain": [
       "Sequence(units=[Unit(onset=0.0, offset=12.30528125, label='-', audio=None, spectrogram=None)], method='energy', segment_params={'threshold': 1500, 'min_dur': 0.01, 'min_silent_dur': 0.006}, audio=vocalpy.Audio(data=None, samplerate=None, channels=None), path=data/bfsongrepo/gy6or6/032312/gy6or6_baseline_230312_0808.138.cbin), spectrogram=None)"
      ]
     },
     "execution_count": 50,
     "metadata": {},
     "output_type": "execute_result"
    }
   ],
   "source": [
    "seq"
   ]
  },
  {
   "cell_type": "code",
   "execution_count": 42,
   "id": "74819efb-c4ae-414b-b7f1-2b0f9d88f17a",
   "metadata": {
    "tags": []
   },
   "outputs": [],
   "source": [
    "start_times, stop_times = [], []\n",
    "for unit in seq.units:\n",
    "    start_times.append(unit.onset)\n",
    "    stop_times.append(unit.offset)\n",
    "start_times = np.array(start_times)\n",
    "stop_times = np.array(stop_times)"
   ]
  },
  {
   "cell_type": "code",
   "execution_count": 44,
   "id": "3d62603c-a679-4f70-9317-84a92ab5cb8b",
   "metadata": {
    "tags": []
   },
   "outputs": [],
   "source": [
    "spect = spects[0]"
   ]
  },
  {
   "cell_type": "code",
   "execution_count": 45,
   "id": "ffa26030-579c-40c7-8115-e560a6740ed7",
   "metadata": {
    "tags": []
   },
   "outputs": [],
   "source": [
    "start_inds = np.argmin(\n",
    "    np.subtract.outer(start_times, spect.times)\n",
    ")"
   ]
  },
  {
   "cell_type": "code",
   "execution_count": 49,
   "id": "5de3978d-5358-4e18-96a6-a35d3caa1317",
   "metadata": {
    "tags": []
   },
   "outputs": [
    {
     "data": {
      "text/plain": [
       "array([0.])"
      ]
     },
     "execution_count": 49,
     "metadata": {},
     "output_type": "execute_result"
    }
   ],
   "source": [
    "start_times"
   ]
  },
  {
   "cell_type": "code",
   "execution_count": 41,
   "id": "667b01b8-85b6-4447-8293-de9651bc6307",
   "metadata": {
    "tags": []
   },
   "outputs": [],
   "source": [
    "import numpy as np\n",
    "\n",
    "def get_segs(seq, spect):\n",
    "    start_times, stop_times = [], []\n",
    "    for unit in seqs.units:\n",
    "        start_times.append(unit.onset)\n",
    "        stop_times.appen(unit.offset)\n",
    "    start_times = np.array(start_times)\n",
    "    stop_times = np.array(stop_times)\n",
    "    start_inds = np.argmin(\n",
    "        np.subtract.outer(start_times, spect.times)\n",
    "    )\n",
    "    stop_inds = np.argmin(\n",
    "        np.subtract.outer(stop_times, spect.times)\n",
    "    )\n",
    "    \n",
    "\n",
    "    "
   ]
  },
  {
   "cell_type": "code",
   "execution_count": null,
   "id": "4cb9cfe4-704a-4815-bdcc-bcf8e8b946f4",
   "metadata": {},
   "outputs": [],
   "source": [
    "segments = []\n",
    "for sequence, spect in zip(seqs, spects):\n",
    "    sequence"
   ]
  }
 ],
 "metadata": {
  "kernelspec": {
   "display_name": "Python 3 (ipykernel)",
   "language": "python",
   "name": "python3"
  },
  "language_info": {
   "codemirror_mode": {
    "name": "ipython",
    "version": 3
   },
   "file_extension": ".py",
   "mimetype": "text/x-python",
   "name": "python",
   "nbconvert_exporter": "python",
   "pygments_lexer": "ipython3",
   "version": "3.10.13"
  }
 },
 "nbformat": 4,
 "nbformat_minor": 5
}

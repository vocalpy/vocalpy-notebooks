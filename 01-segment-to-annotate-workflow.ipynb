{
 "cells": [
  {
   "cell_type": "code",
   "execution_count": 1,
   "id": "f26db875-a8e0-4c86-9bf8-e9772f40762a",
   "metadata": {
    "tags": []
   },
   "outputs": [],
   "source": [
    "from __future__ import annotations\n",
    "\n",
    "import attrs\n",
    "\n",
    "import vocalpy as voc"
   ]
  },
  {
   "cell_type": "code",
   "execution_count": null,
   "id": "a3675240-31c7-406f-aea7-cee9499beede",
   "metadata": {
    "tags": []
   },
   "outputs": [],
   "source": [
    "@attrs.define\n",
    "class SequenceDataset:\n",
    "    sequences: list[vocalpy.Sequence] = attrs.field()\n",
    "\n",
    "    def to_sqlite(db_path: str):\n",
    "        # TODO: write this so that we always re-create the whole thing from scratch;\n",
    "        # don't bother checking whether anything is in the database because we *know* we just made it\n",
    "        # that's the whole point\n",
    "        pass\n",
    "\n",
    "    def from_sqlite(db_path: str):\n",
    "        pass"
   ]
  },
  {
   "cell_type": "code",
   "execution_count": 2,
   "id": "68797005-c251-46e7-acd8-2720257ef397",
   "metadata": {
    "tags": []
   },
   "outputs": [
    {
     "name": "stdout",
     "output_type": "stream",
     "text": [
      "/Users/davidnicholson/Documents/repos/coding/vocalpy/vocalpy\n"
     ]
    }
   ],
   "source": [
    "cd /Users/davidnicholson/Documents/repos/coding/vocalpy/vocalpy"
   ]
  },
  {
   "cell_type": "code",
   "execution_count": 4,
   "id": "01e08ecd-e844-46d4-a216-95eca8d0b48a",
   "metadata": {
    "tags": []
   },
   "outputs": [
    {
     "name": "stdout",
     "output_type": "stream",
     "text": [
      "\u001B[1m\u001B[36m032312\u001B[m\u001B[m/ \u001B[1m\u001B[36m032412\u001B[m\u001B[m/\n"
     ]
    }
   ],
   "source": [
    "ls tests/data-for-tests/source/audio_cbin_annot_notmat/gy6or6/"
   ]
  },
  {
   "cell_type": "code",
   "execution_count": 5,
   "id": "a5a0b012-3b48-4ca5-b5a5-ca4c5fed5c78",
   "metadata": {
    "tags": []
   },
   "outputs": [],
   "source": [
    "data_dir = 'tests/data-for-tests/source/audio_cbin_annot_notmat/gy6or6/032312/'"
   ]
  },
  {
   "cell_type": "code",
   "execution_count": 6,
   "id": "62a29dad-9f3f-45ec-9999-331fbdf6d237",
   "metadata": {
    "tags": []
   },
   "outputs": [],
   "source": [
    "cbins = voc.paths.from_dir(data_dir, 'cbin')"
   ]
  },
  {
   "cell_type": "code",
   "execution_count": 7,
   "id": "0945c4c4-af5b-41c2-9f6a-6c79c8781b57",
   "metadata": {
    "tags": []
   },
   "outputs": [],
   "source": [
    "aud = voc.Audio(path=cbins[0])"
   ]
  },
  {
   "cell_type": "code",
   "execution_count": 8,
   "id": "e28b1f35-73e5-44e5-85ca-26d2d346de05",
   "metadata": {
    "tags": []
   },
   "outputs": [],
   "source": [
    "audios = [voc.Audio.read(cbin) for cbin in cbins]"
   ]
  },
  {
   "cell_type": "code",
   "execution_count": 9,
   "id": "e1304090-3804-4197-a8be-18749294dad7",
   "metadata": {
    "tags": []
   },
   "outputs": [],
   "source": [
    "segment_params = {\n",
    "    'threshold': 1500,\n",
    "    'min_dur': 0.01,\n",
    "    'min_silent_dur': 0.006,\n",
    "}\n",
    "segmenter = voc.Segmenter(segment_params=segment_params)"
   ]
  },
  {
   "cell_type": "code",
   "execution_count": 10,
   "id": "dc8f9220-57fb-4ad4-b88f-f04b2c67447b",
   "metadata": {
    "tags": []
   },
   "outputs": [
    {
     "name": "stdout",
     "output_type": "stream",
     "text": [
      "[                                        ] | 0% Completed | 122.28 us"
     ]
    },
    {
     "name": "stderr",
     "output_type": "stream",
     "text": [
      "/Users/davidnicholson/Documents/repos/coding/vocalpy/vocalpy/src/vocalpy/signal/segment.py:56: UserWarning: Values in `data` would overflow when squaring because of dtype, >i2;casting to a larger integer dtype to avoid\n",
      "  smoothed = smooth(data, samplerate, smooth_win)\n"
     ]
    },
    {
     "name": "stdout",
     "output_type": "stream",
     "text": [
      "[########################################] | 100% Completed | 105.22 ms\n"
     ]
    }
   ],
   "source": [
    "seqs = segmenter.segment(audios)"
   ]
  },
  {
   "cell_type": "code",
   "execution_count": 11,
   "id": "855fed30-3d90-4853-99f0-c1d8cab45fc3",
   "metadata": {
    "tags": []
   },
   "outputs": [],
   "source": [
    "import sqlalchemy"
   ]
  },
  {
   "cell_type": "code",
   "execution_count": 12,
   "id": "9207dc23-93d8-4e30-b034-da5fa0adaa8d",
   "metadata": {},
   "outputs": [],
   "source": [
    "import enum\n",
    "\n",
    "from sqlalchemy import (\n",
    "    Column,\n",
    "    create_engine,\n",
    "    Enum,\n",
    "    Float,\n",
    "    ForeignKey,\n",
    "    Integer,\n",
    "    String,\n",
    "    Table,\n",
    ")\n",
    "from sqlalchemy.orm import DeclarativeBase\n",
    "\n",
    "from sqlalchemy.orm import relationship\n",
    "\n",
    "import vocalpy as voc"
   ]
  },
  {
   "cell_type": "code",
   "execution_count": 13,
   "id": "e976aa07-6555-4f43-a9a5-4dbf3209485f",
   "metadata": {
    "tags": []
   },
   "outputs": [],
   "source": [
    "class Base(DeclarativeBase):\n",
    "    pass"
   ]
  },
  {
   "cell_type": "code",
   "execution_count": 14,
   "id": "2547b6d3-fad1-4784-bbfb-44b39eb0aaa1",
   "metadata": {
    "tags": []
   },
   "outputs": [],
   "source": [
    "class Audio(Base):\n",
    "    __tablename__ = 'audios'\n",
    "    \n",
    "    id = Column(Integer, primary_key=True)\n",
    "    path = Column(String)\n",
    "    \n",
    "    sequences = relationship(\"Sequence\", back_populates=\"audio\")\n",
    "\n",
    "    def __repr__(self):\n",
    "        return f\"Audio(id={self.id!r}, path={self.path!r})\""
   ]
  },
  {
   "cell_type": "code",
   "execution_count": 15,
   "id": "ee0463e6-3841-45a5-a595-d7813a2f36b1",
   "metadata": {
    "tags": []
   },
   "outputs": [],
   "source": [
    "class SegmentParams(Base):\n",
    "    __tablename__ = 'segment_params'\n",
    "    id = Column(Integer, primary_key=True)\n",
    "    path = Column(String)\n",
    "    \n",
    "    sequences = relationship(\"Sequence\", back_populates=\"segment_params\")\n",
    "\n",
    "    def __repr__(self):\n",
    "        return f\"SegmentParams(id={self.id!r}, path={self.path!r})\""
   ]
  },
  {
   "cell_type": "code",
   "execution_count": 16,
   "id": "6d9a2c35-fad4-4d63-8f6e-dae03ce1f2d3",
   "metadata": {
    "tags": []
   },
   "outputs": [],
   "source": [
    "class Sequence(Base):\n",
    "    __tablename__ = 'sequences'\n",
    "    \n",
    "    id = Column(Integer, primary_key=True)\n",
    "    audio_id = Column(Integer, ForeignKey('audios.id'))\n",
    "    onset = Column(Float)\n",
    "    offset = Column(Float)\n",
    "    method = Column(String)  # should this be a table?\n",
    "    segment_params_id = Column(Integer, ForeignKey('segment_params.id'))\n",
    "\n",
    "    audio = relationship(\"Audio\", back_populates=\"sequences\")\n",
    "    segment_params = relationship(\"SegmentParams\", back_populates=\"sequences\")\n",
    "    \n",
    "    units = relationship(\"Unit\", back_populates=\"sequence\")\n",
    "\n",
    "    def __repr__(self):\n",
    "        return (f\"Sequence(id={self.id!r}, audio_id={self.audio_id!r}, onset={self.onset!r}, offset={self.offset!r}, method={self.method!r}, \"\n",
    "                f\"segment_params_id={self.segment_params_id!r}, audio={self.audio!r})\")"
   ]
  },
  {
   "cell_type": "code",
   "execution_count": 17,
   "id": "5d26d57f-21c9-45f1-8f45-c440017230fc",
   "metadata": {
    "tags": []
   },
   "outputs": [],
   "source": [
    "class Unit(Base):\n",
    "    __tablename__ = 'units'\n",
    "    \n",
    "    id = Column(Integer, primary_key=True)\n",
    "    sequence_id = Column(Integer, ForeignKey('sequences.id'))\n",
    "    onset = Column(Float)\n",
    "    offset = Column(Float)\n",
    "    \n",
    "    sequence = relationship(\"Sequence\", back_populates=\"units\")\n",
    "    \n",
    "    def __repr__(self):\n",
    "        return f\"Unit(id={self.id!r}, sequence_id={self.sequence_id!r}, onset={self.onset!r}, offset={self.offset!r})\""
   ]
  },
  {
   "cell_type": "code",
   "execution_count": 18,
   "id": "4baec922-a69e-46de-8331-6b5ede1a7a90",
   "metadata": {
    "tags": []
   },
   "outputs": [],
   "source": [
    "from sqlalchemy import create_engine, select\n",
    "from sqlalchemy.orm import Session"
   ]
  },
  {
   "cell_type": "code",
   "execution_count": 19,
   "id": "3c1e3876-fe05-4a48-b077-c694b072880b",
   "metadata": {
    "tags": []
   },
   "outputs": [],
   "source": [
    "def get_sqlite_engine(db_path=':memory:', echo=True):\n",
    "     return create_engine(f'sqlite:///{db_path}', echo=echo)\n",
    "\n",
    "def get_session(engine):\n",
    "    Session = sessionmaker(bind=engine)\n",
    "    session = Session()\n",
    "    return session"
   ]
  },
  {
   "cell_type": "code",
   "execution_count": 20,
   "id": "86e101bc-a986-47d6-bdc5-8ea22ab61c2b",
   "metadata": {
    "tags": []
   },
   "outputs": [],
   "source": [
    "import json\n",
    "import pathlib\n",
    "\n",
    "def to_sqlite(seqs, db_name=':memory:', dst=None, echo=True):\n",
    "    if dst:\n",
    "        dst = pathlib.Path(dst)\n",
    "        if not dst.exist() or not dst.is_dir():\n",
    "            raise NotADirectory(\n",
    "                f\"`dst` not found or not recognized as a directory: {dst}\"\n",
    "            )\n",
    "        url = f'sqlite:///{dst}{db_name}'\n",
    "    else:\n",
    "        url = f'sqlite:///{db_name}'\n",
    "\n",
    "    engine = create_engine(url, echo=echo)\n",
    "\n",
    "    Base.metadata.create_all(engine)\n",
    "\n",
    "    # TODO: handle checking here -- \n",
    "    # actually make sure in Segmenter that `segment_params` can be serialized\n",
    "    \n",
    "    # make a set to get unique values, \n",
    "    # then make a list so we can do uniq_segment_params.index in loop below\n",
    "\n",
    "    segment_params_map = {}\n",
    "    uniq_segment_params = []\n",
    "    # need to do it this way since we can't hash a dict to use `set` to find unique\n",
    "    # https://stackoverflow.com/questions/11092511/list-of-unique-dictionaries\n",
    "    for seq in seqs:\n",
    "        if seq.segment_params not in uniq_segment_params:\n",
    "            uniq_segment_params.append(segment_params)\n",
    "\n",
    "    orm_segment_params = []\n",
    "    for ind, segment_params_dict in enumerate(uniq_segment_params):\n",
    "        fname = f'segment-params-{ind + 1}.json'\n",
    "        if dst:\n",
    "            segment_params_json_path = dst / fnane\n",
    "        else:\n",
    "            segment_params_json_path = pathlib.Path(fname)\n",
    "        with segment_params_json_path.open('w') as fp:\n",
    "            json.dump(segment_params_dict, fp)\n",
    "        orm_segment_params.append(\n",
    "            SegmentParams(path=str(segment_params_json_path))\n",
    "        )\n",
    "\n",
    "    with Session(engine) as session, session.begin():\n",
    "        for an_orm_segment_params in orm_segment_params:\n",
    "            session.add(an_orm_segment_params)\n",
    "        \n",
    "        for seq in seqs:\n",
    "            audio = Audio(path=str(seq.audio.path))\n",
    "            session.add(audio)\n",
    "\n",
    "            # make and add sequence, referring to audio and segment params\n",
    "            ind = uniq_segment_params.index(seq.segment_params)\n",
    "            an_orm_segment_params = orm_segment_params[ind]\n",
    "\n",
    "            sequence = Sequence(\n",
    "                audio=audio,\n",
    "                segment_params=an_orm_segment_params,\n",
    "                onset=seq.onset,\n",
    "                offset=seq.offset,\n",
    "                method=seq.method,\n",
    "            )\n",
    "            session.add(sequence)\n",
    "\n",
    "            # make and add units\n",
    "            for seq_unit in seq.units:\n",
    "                unit = Unit(\n",
    "                    onset=seq_unit.onset,\n",
    "                    offset=seq_unit.offset,\n",
    "                    sequence=sequence\n",
    "                )\n",
    "                session.add(unit)\n",
    "        # ---- implicit session.commit() when we __exit__ context + begin() from above"
   ]
  },
  {
   "cell_type": "code",
   "execution_count": null,
   "id": "eb17df04-3463-4383-9aa0-aa39ee86902d",
   "metadata": {},
   "outputs": [],
   "source": []
  },
  {
   "cell_type": "code",
   "execution_count": 21,
   "id": "4e6b3a92-a5ea-42ff-a351-af76698933a4",
   "metadata": {
    "tags": []
   },
   "outputs": [
    {
     "name": "stdout",
     "output_type": "stream",
     "text": [
      "2023-05-08 08:45:46,958 INFO sqlalchemy.engine.Engine BEGIN (implicit)\n",
      "2023-05-08 08:45:46,959 INFO sqlalchemy.engine.Engine PRAGMA main.table_info(\"audios\")\n",
      "2023-05-08 08:45:46,961 INFO sqlalchemy.engine.Engine [raw sql] ()\n",
      "2023-05-08 08:45:46,963 INFO sqlalchemy.engine.Engine PRAGMA main.table_info(\"segment_params\")\n",
      "2023-05-08 08:45:46,964 INFO sqlalchemy.engine.Engine [raw sql] ()\n",
      "2023-05-08 08:45:46,966 INFO sqlalchemy.engine.Engine PRAGMA main.table_info(\"sequences\")\n",
      "2023-05-08 08:45:46,967 INFO sqlalchemy.engine.Engine [raw sql] ()\n",
      "2023-05-08 08:45:46,970 INFO sqlalchemy.engine.Engine PRAGMA main.table_info(\"units\")\n",
      "2023-05-08 08:45:46,972 INFO sqlalchemy.engine.Engine [raw sql] ()\n",
      "2023-05-08 08:45:46,974 INFO sqlalchemy.engine.Engine COMMIT\n"
     ]
    }
   ],
   "source": [
    "url = f'sqlite:///test.db'\n",
    "\n",
    "engine = create_engine(url, echo=True)\n",
    "\n",
    "Base.metadata.create_all(engine)"
   ]
  },
  {
   "cell_type": "code",
   "execution_count": 22,
   "id": "2f674d23-1ac8-47fc-a693-84fb8e135cd1",
   "metadata": {
    "tags": []
   },
   "outputs": [
    {
     "name": "stdout",
     "output_type": "stream",
     "text": [
      "2023-05-08 08:45:47,387 INFO sqlalchemy.engine.Engine BEGIN (implicit)\n",
      "2023-05-08 08:45:47,406 INFO sqlalchemy.engine.Engine SELECT sequences.id, sequences.audio_id, sequences.onset, sequences.\"offset\", sequences.method, sequences.segment_params_id \n",
      "FROM sequences\n",
      "2023-05-08 08:45:47,408 INFO sqlalchemy.engine.Engine [generated in 0.00132s] ()\n",
      "2023-05-08 08:45:47,414 INFO sqlalchemy.engine.Engine SELECT audios.id AS audios_id, audios.path AS audios_path \n",
      "FROM audios \n",
      "WHERE audios.id = ?\n",
      "2023-05-08 08:45:47,415 INFO sqlalchemy.engine.Engine [generated in 0.00125s] (1,)\n",
      "Sequence(id=1, audio_id=1, onset=0.0, offset=12.30528125, method='audio_amplitude', segment_params_id=1, audio=Audio(id=1, path='tests/data-for-tests/source/audio_cbin_annot_notmat/gy6or6/032312/gy6or6_baseline_230312_0808.138.cbin'))\n",
      "2023-05-08 08:45:47,417 INFO sqlalchemy.engine.Engine COMMIT\n"
     ]
    }
   ],
   "source": [
    "with Session(engine) as session, session.begin():\n",
    "    stmt = select(Sequence)\n",
    "    this = session.scalars(stmt).all()\n",
    "    print(this[0])"
   ]
  },
  {
   "cell_type": "code",
   "execution_count": null,
   "id": "98304b08-60ea-4aa9-bb7b-5c1990f5b338",
   "metadata": {
    "tags": []
   },
   "outputs": [],
   "source": []
  },
  {
   "cell_type": "code",
   "execution_count": null,
   "id": "4f6051b6-afc8-4273-9e86-5091ce268a80",
   "metadata": {},
   "outputs": [],
   "source": []
  }
 ],
 "metadata": {
  "kernelspec": {
   "display_name": "Python 3 (ipykernel)",
   "language": "python",
   "name": "python3"
  },
  "language_info": {
   "codemirror_mode": {
    "name": "ipython",
    "version": 3
   },
   "file_extension": ".py",
   "mimetype": "text/x-python",
   "name": "python",
   "nbconvert_exporter": "python",
   "pygments_lexer": "ipython3",
   "version": "3.10.10"
  }
 },
 "nbformat": 4,
 "nbformat_minor": 5
}
